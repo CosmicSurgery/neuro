{
 "cells": [
  {
   "cell_type": "code",
   "execution_count": 3,
   "id": "5cdb347d-ad91-4f00-ba0d-5224ebb1429d",
   "metadata": {},
   "outputs": [],
   "source": [
    "import numpy as np\n",
    "import matplotlib.pyplot as plt\n",
    "import seaborn"
   ]
  },
  {
   "cell_type": "markdown",
   "id": "5e29a751-9d97-4aff-acb3-da69188fcb04",
   "metadata": {},
   "source": [
    "### Izhikevich Spiking Model Neurons\n",
    "\n",
    "$$v'=0.04v^{2}+5v+140-u+I$$\n",
    "$$u'=a(bv-u)$$\n",
    "\n",
    "if $v=30$ mV\n",
    "then $v \\leftarrow c ,\\qquad u \\leftarrow u+d$"
   ]
  },
  {
   "cell_type": "code",
   "execution_count": 125,
   "id": "553f7107-6b11-4e7b-9e77-729408e23ebe",
   "metadata": {},
   "outputs": [],
   "source": [
    "types = ['regular spiking']\n",
    "params = {\n",
    "    'rs': np.array([0.02,0.2,-65, 8]),\n",
    "    'ib' : np.array([0.02,0.2,-55, 4]),\n",
    "    'ch' : np.array([0.02, 0.2, -50, 2]),\n",
    "    'fs' : np.array([0.1, 0.2, -65, 2]),\n",
    "    'tc1': np.array([0.02,0.25,-65, 0.05]),\n",
    "    'tc2' : np.array([0.02,0.25,-65, 0.05]),\n",
    "    'rz' : np.array([0.1, 0.25, -65, 2]),\n",
    "    'lts' : np.array([0.02, 0.25, -65, 2])\n",
    "}"
   ]
  },
  {
   "cell_type": "code",
   "execution_count": 126,
   "id": "0923beb3-871a-4a9a-afff-dc7a33c47e30",
   "metadata": {},
   "outputs": [
    {
     "name": "stdout",
     "output_type": "stream",
     "text": [
      "rs\n",
      "ib\n",
      "ch\n",
      "fs\n",
      "tc1\n",
      "tc2\n",
      "rz\n",
      "lts\n"
     ]
    }
   ],
   "source": [
    "for key in params:\n",
    "    print(key)"
   ]
  },
  {
   "cell_type": "code",
   "execution_count": 127,
   "id": "dcf27fd8-90fa-4bdc-a86e-1e8fe4e7c74e",
   "metadata": {},
   "outputs": [],
   "source": [
    "def response(v, u, i, a, b, c, d):\n",
    "    v_ = 0.04*v**2 + 5*v + 140 - u + i\n",
    "    u_ = a*(b*v - u)\n",
    "\n",
    "    if v+v_ >= 30:\n",
    "        v = c\n",
    "        u = u+d\n",
    "    else:\n",
    "        v = v + v_\n",
    "        u = u + u_\n",
    "    # print(v_, u_, params)\n",
    "    return u, v"
   ]
  },
  {
   "cell_type": "code",
   "execution_count": 128,
   "id": "c1fb18bb-d11c-466d-a076-7f53ad299ee8",
   "metadata": {},
   "outputs": [
    {
     "data": {
      "text/plain": [
       "np.float64(-65.0)"
      ]
     },
     "execution_count": 128,
     "metadata": {},
     "output_type": "execute_result"
    }
   ],
   "source": [
    "params['rs'][2]"
   ]
  },
  {
   "cell_type": "code",
   "execution_count": 177,
   "id": "930e05c0-12cc-4af3-8bee-f079e02ec912",
   "metadata": {},
   "outputs": [],
   "source": [
    "T = np.arange(0,300,1)\n",
    "u = np.zeros((len(T),len(params)))\n",
    "v = np.zeros((len(T),len(params)))\n",
    "I = np.zeros(len(T))\n",
    "I[10:] = 10\n",
    "u[0,:] = -14\n",
    "v[0,:] = -70\n",
    "\n",
    "#special case thalamo-cortical\n",
    "v[0,4] = -63\n",
    "u[0,4] = -16\n",
    "v[0,5] = -87\n",
    "u[0,5] = -16"
   ]
  },
  {
   "cell_type": "code",
   "execution_count": 189,
   "id": "af0cb603-2d4d-43d4-a5f8-229845fb2012",
   "metadata": {},
   "outputs": [],
   "source": [
    "names = ['rs','ib','ch','fs','tc1','tc2','rz','lts']\n",
    "\n",
    "for i,t in enumerate(T[:-1]):\n",
    "    for j,name in enumerate(names):\n",
    "        if name =='tc2':\n",
    "            I = I-10\n",
    "        if name =='tc1':\n",
    "            I = I/2\n",
    "        if name =='rz':\n",
    "            I = I/2\n",
    "        u[i+1,j], v[i+1,j] = response(v[i,j], u[i,j], I[i], *params[name])\n",
    "        if name =='tc2':\n",
    "            I = I+10\n",
    "        if name =='tc1':\n",
    "            I = I*2\n",
    "        if name =='rz':\n",
    "            I = I*2"
   ]
  },
  {
   "cell_type": "code",
   "execution_count": 191,
   "id": "0db24a53-b0b4-4b65-a27a-1de52b6a7941",
   "metadata": {},
   "outputs": [],
   "source": [
    "%matplotlib qt "
   ]
  },
  {
   "cell_type": "code",
   "execution_count": 192,
   "id": "37360adc-8c3b-444d-8c19-6575e28be64d",
   "metadata": {},
   "outputs": [
    {
     "name": "stdout",
     "output_type": "stream",
     "text": [
      "-18.618891266945894 -64.41391109256088 -13.521178002359932 -16.103477773160503\n"
     ]
    }
   ],
   "source": [
    "plt.figure(figsize=(12,6))\n",
    "plt.plot(T,v[:,0],c='black',alpha=0.9)\n",
    "# plt.plot(T,u,alpha=0.5)\n",
    "plt.plot(T,I-100)\n",
    "plt.title('Regular Spiking')\n",
    "plt.show()\n",
    "\n",
    "print(v[-1,4],v[-1,5],u[-1,4],u[-1,5])"
   ]
  },
  {
   "cell_type": "code",
   "execution_count": 193,
   "id": "e497daae-6eb9-4ce0-8249-4ded30103efc",
   "metadata": {},
   "outputs": [],
   "source": [
    "fig, ax = plt.subplots(2,4,figsize=(12,6))\n",
    "for l,ax_ in enumerate(ax.flatten()): \n",
    "    ax_.plot(T,v[:,l],c='black',alpha=1,linewidth=1)\n",
    "    ax_.plot(T,I-100,c='black',alpha=1,linewidth=1)\n",
    "    ax_.set_title(names[l])"
   ]
  },
  {
   "cell_type": "code",
   "execution_count": null,
   "id": "34bd1b1f-c0ea-4d5c-b78c-5d276af15a5d",
   "metadata": {},
   "outputs": [],
   "source": []
  },
  {
   "cell_type": "code",
   "execution_count": null,
   "id": "1721112f-dfa0-44c0-b382-7db06c2582f2",
   "metadata": {},
   "outputs": [],
   "source": []
  }
 ],
 "metadata": {
  "kernelspec": {
   "display_name": "Python 3 (ipykernel)",
   "language": "python",
   "name": "python3"
  },
  "language_info": {
   "codemirror_mode": {
    "name": "ipython",
    "version": 3
   },
   "file_extension": ".py",
   "mimetype": "text/x-python",
   "name": "python",
   "nbconvert_exporter": "python",
   "pygments_lexer": "ipython3",
   "version": "3.10.18"
  }
 },
 "nbformat": 4,
 "nbformat_minor": 5
}
