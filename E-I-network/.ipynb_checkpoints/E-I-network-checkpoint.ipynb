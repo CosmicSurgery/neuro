{
 "cells": [
  {
   "cell_type": "code",
   "execution_count": 1,
   "id": "ccef961f-b234-45ca-961f-e869eebb33b7",
   "metadata": {},
   "outputs": [],
   "source": [
    "import numpy as np\n",
    "import matplotlib.pyplot as plt\n",
    "import sys\n",
    "# np.set_printoptions(threshold=sys.maxsize)"
   ]
  },
  {
   "cell_type": "code",
   "execution_count": 2,
   "id": "c34825d9-39c2-4bd0-b890-3b8f95bbb9e9",
   "metadata": {},
   "outputs": [],
   "source": [
    "Ne = 800\n",
    "Ni =200\n",
    "re = np.random.random((Ne,1))\n",
    "ri = np.random.random((Ni,1))\n",
    "a = np.concatenate([0.02*np.ones((Ne,1)), 0.02+0.08*ri])\n",
    "b = np.concatenate([0.2*np.ones((Ne,1)), 0.25 - 0.05*ri])\n",
    "c = np.concatenate([-65 + 15*re**2, -65*np.ones((Ni,1))])\n",
    "d = np.concatenate([8 - 6*re**2, 2*np.ones((Ni,1))])\n",
    "S =  np.hstack([0.5*np.random.random((Ne+Ni, Ne)), -np.random.random((Ne+Ni, Ni))])\n"
   ]
  },
  {
   "cell_type": "code",
   "execution_count": 3,
   "id": "e8974e9b-8447-4eac-a02e-04f1881646c2",
   "metadata": {},
   "outputs": [],
   "source": [
    "v= -65*np.ones((Ne+Ni,1)) # Initial values of v\n",
    "u=b*v                     # initial values of u\n",
    "firings = np.empty((0, 2))\n",
    "blocks = []"
   ]
  },
  {
   "cell_type": "code",
   "execution_count": 4,
   "id": "8c51a163-b7f9-4fd0-b447-6378d596278b",
   "metadata": {},
   "outputs": [
    {
     "data": {
      "text/plain": [
       "(1000, 1000, 1)"
      ]
     },
     "execution_count": 4,
     "metadata": {},
     "output_type": "execute_result"
    }
   ],
   "source": [
    "I_mem = []\n",
    "v_mem = []\n",
    "v_mem_ = []\n",
    "for t in np.arange(1000):\n",
    "    I = np.vstack([5*np.random.randn(Ne,1), 2*np.random.randn(Ni,1)])\n",
    "    # fired= np.where(v>=30)[0]\n",
    "    fired = np.flatnonzero(v >= 30)   # (m,)\n",
    "    if fired.size:\n",
    "        v[fired] = 30\n",
    "        \n",
    "        v_mem.append(v.copy())\n",
    "        \n",
    "        blocks.append(np.column_stack((np.full(fired.size, t, dtype=int), fired)))\n",
    "        v[fired] = c[fired]\n",
    "        u[fired] = u[fired]+d[fired]\n",
    "        I = I+np.sum(S[:, fired], axis=1, keepdims=True)\n",
    "    else:\n",
    "        v_mem.append(v.copy())\n",
    "        \n",
    "        # break\n",
    "    v = v+0.5*(0.04*v**2 + 5*v + 140 - u + I)                                      # step 0.5 ms\n",
    "    v = v+0.5*(0.04*v**2 + 5*v + 140 - u + I)                                      # for numerical stability\n",
    "    u = u+a * (b*v-u)\n",
    "\n",
    "    I_mem.append(I.copy())\n",
    "\n",
    "    # break\n",
    "firings = np.concatenate(blocks, axis=0) if blocks else np.empty((0, 2), dtype=int)\n",
    "I_mem = np.array(I_mem)\n",
    "v_mem = np.array(v_mem)\n",
    "v_mem.shape"
   ]
  },
  {
   "cell_type": "code",
   "execution_count": 14,
   "id": "46983ce4-e9fe-4af2-8a9b-e3469c81e10c",
   "metadata": {},
   "outputs": [],
   "source": [
    "i=2\n",
    "offset=100\n",
    "%matplotlib qt\n",
    "plt.figure(figsize=(12,6))\n",
    "plt.scatter(*firings[firings.T[1] <800].T,s=1, marker='|')\n",
    "plt.scatter(*firings[firings.T[1] >=800].T,s=1, c='firebrick', marker='|')\n",
    "plt.plot(v_mem[:,i],color='black')\n",
    "plt.axhline(800, color='black',alpha=0.5)\n",
    "plt.title('1000 randomly coupled spiking neurons')\n",
    "plt.xlabel('time, ms')\n",
    "plt.ylabel('neuron number')\n",
    "plt.show()"
   ]
  }
 ],
 "metadata": {
  "kernelspec": {
   "display_name": "Python 3 (ipykernel)",
   "language": "python",
   "name": "python3"
  },
  "language_info": {
   "codemirror_mode": {
    "name": "ipython",
    "version": 3
   },
   "file_extension": ".py",
   "mimetype": "text/x-python",
   "name": "python",
   "nbconvert_exporter": "python",
   "pygments_lexer": "ipython3",
   "version": "3.10.18"
  }
 },
 "nbformat": 4,
 "nbformat_minor": 5
}
